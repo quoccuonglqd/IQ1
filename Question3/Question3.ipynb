{
 "cells": [
  {
   "attachments": {},
   "cell_type": "markdown",
   "metadata": {},
   "source": [
    "# Section a"
   ]
  },
  {
   "cell_type": "code",
   "execution_count": 1,
   "metadata": {},
   "outputs": [],
   "source": [
    "from nms import nms_with_class_hierarchy\n",
    "from lca import BinaryLCA\n",
    "\n",
    "lca = BinaryLCA(\"asset/hierarchy.txt\")"
   ]
  },
  {
   "cell_type": "code",
   "execution_count": 2,
   "metadata": {},
   "outputs": [
    {
     "data": {
      "text/plain": [
       "['n02424305',\n",
       " 'n02419796',\n",
       " 'n02401031',\n",
       " 'n02399000',\n",
       " 'n02394477',\n",
       " 'n02370806',\n",
       " 'n01886756',\n",
       " 'n01861778',\n",
       " 'n01471682',\n",
       " 'n01466257',\n",
       " 'n00015388',\n",
       " 'n00004475',\n",
       " 'n00004258',\n",
       " 'n00003553',\n",
       " 'n00002684',\n",
       " 'n00001930',\n",
       " 'n00001740']"
      ]
     },
     "execution_count": 2,
     "metadata": {},
     "output_type": "execute_result"
    }
   ],
   "source": [
    "lca.find_all_ancestor(\"n02424589\")"
   ]
  },
  {
   "attachments": {},
   "cell_type": "markdown",
   "metadata": {},
   "source": [
    "# Section c"
   ]
  },
  {
   "cell_type": "code",
   "execution_count": 3,
   "metadata": {},
   "outputs": [
    {
     "name": "stdout",
     "output_type": "stream",
     "text": [
      "[[22.         22.         29.         47.          0.7724032 ]\n",
      " [ 0.         10.         22.         47.          0.8225007 ]\n",
      " [32.         31.         33.         32.          0.98753715]\n",
      " [ 6.         28.          8.         37.          0.60695344]\n",
      " [18.          6.         21.         20.          0.96375704]\n",
      " [31.          5.         41.         12.          0.9780806 ]\n",
      " [42.         26.         45.         30.          0.80951756]\n",
      " [10.         19.         16.         40.          0.7333392 ]\n",
      " [29.         37.         44.         42.          0.91993076]\n",
      " [45.         22.         49.         38.          0.6187    ]]\n",
      "['n02119477', 'n02119477', 'n02119477', 'n02118333', 'n02119789', 'n02118333', 'n02119789', 'n02119477', 'n02119789', 'n02119789']\n"
     ]
    }
   ],
   "source": [
    "import numpy as np\n",
    "\n",
    "# Define the size of the array\n",
    "num_rows = 10\n",
    "\n",
    "# Define the range for xmin, ymin, xmax, ymax\n",
    "min_coord = 0\n",
    "max_coord = 50\n",
    "\n",
    "# Define the range for the score\n",
    "min_score = 0.6\n",
    "max_score = 1.0\n",
    "\n",
    "# Define the class names\n",
    "# Here n02119477 and n02119789 are children of n02118333\n",
    "class_names = [\"n02118333\", \"n02119477\", \"n02119789\"]\n",
    "\n",
    "# Generate the random array\n",
    "random_array = np.zeros((num_rows, 5), dtype=np.float32)\n",
    "random_classes = []\n",
    "\n",
    "for i in range(num_rows):\n",
    "    # Generate random values for xmin, ymin, xmax, ymax\n",
    "    xmin = np.random.randint(min_coord, max_coord)\n",
    "    ymin = np.random.randint(min_coord, max_coord)\n",
    "    xmax = np.random.randint(xmin+1, max_coord)\n",
    "    ymax = np.random.randint(ymin+1, max_coord)\n",
    "    \n",
    "    # Generate a random score\n",
    "    score = np.random.uniform(min_score, max_score)\n",
    "    \n",
    "    # Select a random class name\n",
    "    class_name = np.random.choice(class_names)\n",
    "    \n",
    "    # Assign the values to the array\n",
    "    random_array[i] = [xmin, ymin, xmax, ymax, score]\n",
    "    random_classes.append(class_name)\n",
    "\n",
    "print(random_array)\n",
    "print(random_classes)\n"
   ]
  },
  {
   "cell_type": "code",
   "execution_count": 4,
   "metadata": {},
   "outputs": [
    {
     "name": "stdout",
     "output_type": "stream",
     "text": [
      "Selected boxes: [array([32., 31., 33., 32.], dtype=float32), array([31.,  5., 41., 12.], dtype=float32), array([18.,  6., 21., 20.], dtype=float32), array([29., 37., 44., 42.], dtype=float32), array([ 0., 10., 22., 47.], dtype=float32), array([42., 26., 45., 30.], dtype=float32), array([22., 22., 29., 47.], dtype=float32), array([10., 19., 16., 40.], dtype=float32), array([45., 22., 49., 38.], dtype=float32), array([ 6., 28.,  8., 37.], dtype=float32)]\n",
      "Selected scores: [0.98753715, 0.9780806, 0.96375704, 0.91993076, 0.8225007, 0.80951756, 0.7724032, 0.7333392, 0.6187, 0.60695344]\n",
      "Selected classes: ['n02119477', 'n02118333', 'n02119789', 'n02119789', 'n02119477', 'n02119789', 'n02119477', 'n02119477', 'n02119789', 'n02118333']\n",
      "10\n"
     ]
    }
   ],
   "source": [
    "bounding_boxes = random_array[:,:4]\n",
    "confidence_scores = random_array[:,4]\n",
    "class_labels = random_classes\n",
    "selected_boxes, selected_scores, selected_classes = nms_with_class_hierarchy(bounding_boxes, confidence_scores,\\\n",
    "                                                                             class_labels, lca,\\\n",
    "                                                                             0.6, 0.5)\n",
    "print('Selected boxes:', selected_boxes)\n",
    "print('Selected scores:', selected_scores)\n",
    "print('Selected classes:', selected_classes)\n",
    "\n",
    "print(len(selected_boxes))"
   ]
  }
 ],
 "metadata": {
  "kernelspec": {
   "display_name": "base",
   "language": "python",
   "name": "python3"
  },
  "language_info": {
   "codemirror_mode": {
    "name": "ipython",
    "version": 3
   },
   "file_extension": ".py",
   "mimetype": "text/x-python",
   "name": "python",
   "nbconvert_exporter": "python",
   "pygments_lexer": "ipython3",
   "version": "3.9.13"
  },
  "orig_nbformat": 4
 },
 "nbformat": 4,
 "nbformat_minor": 2
}
